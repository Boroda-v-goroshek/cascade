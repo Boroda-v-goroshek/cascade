{
 "cells": [
  {
   "cell_type": "code",
   "execution_count": 50,
   "id": "897fbeda",
   "metadata": {},
   "outputs": [],
   "source": [
    "import gspread\n",
    "from google.oauth2.service_account import Credentials\n",
    "import json\n",
    "import os"
   ]
  },
  {
   "cell_type": "code",
   "execution_count": null,
   "id": "aeb9d9ec",
   "metadata": {},
   "outputs": [],
   "source": [
    "def test_google_sheets_connection_fixed(sheet_url, path):\n",
    "    \"\"\"Исправленный тест подключения без создания файлов\"\"\"\n",
    "    \n",
    "    if not os.path.exists(path):\n",
    "        print(\"❌ Файл credentials.json не найден!\")\n",
    "        return False\n",
    "    \n",
    "    try:\n",
    "        # Загружаем credentials\n",
    "        with open(path, 'r') as f:\n",
    "            creds_data = json.load(f)\n",
    "        \n",
    "        print(\"✅ Файл credentials.json найден\")\n",
    "        print(f\"📧 Email сервисного аккаунта: {creds_data['client_email']}\")\n",
    "        \n",
    "        SCOPES = [\n",
    "            'https://www.googleapis.com/auth/spreadsheets',\n",
    "            'https://www.googleapis.com/auth/drive.readonly'\n",
    "        ]\n",
    "        \n",
    "        # Создаем credentials\n",
    "        creds = Credentials.from_service_account_file(path, scopes=SCOPES)\n",
    "        gc = gspread.authorize(creds)\n",
    "        \n",
    "        print(\"✅ Аутентификация успешна\")\n",
    "        \n",
    "        if sheet_url:\n",
    "            # Тест 1: Открытие существующей таблицы\n",
    "            print(\"\\n🧪 Тест 1: Открытие существующей таблицы...\")\n",
    "            try:\n",
    "                sheet = gc.open_by_url(sheet_url)\n",
    "                worksheet = sheet.get_worksheet(0)  # Первый лист\n",
    "                data = worksheet.get_all_values()\n",
    "                print(f\"✅ Таблица открыта: {sheet.title}\")\n",
    "                print(f\"✅ Размер данных: {len(data)} строк, {len(data[0]) if data else 0} столбцов\")\n",
    "            except Exception as e:\n",
    "                print(f\"❌ Ошибка открытия таблицы: {e}\")\n",
    "                return False\n",
    "\n",
    "        if sheet_url:\n",
    "            print(\"\\n🧪 Тест 3: Операция записи...\")\n",
    "            try:\n",
    "                worksheet = sheet.get_worksheet(0)\n",
    "                # Пробуем записать данные в маленький диапазон\n",
    "                test_range = 'B2:C3'\n",
    "                test_data = ['Data1', 'Data2']\n",
    "                worksheet.append_row(test_data)\n",
    "                print(\"✅ Запись данных: УСПЕХ\")\n",
    "                \n",
    "                # Читаем обратно для проверки\n",
    "                result = worksheet.get(test_range)\n",
    "                print(f\"✅ Проверка данных: {result}\")\n",
    "                \n",
    "            except Exception as e:\n",
    "                print(f\"❌ Ошибка записи: {e}\")\n",
    "        \n",
    "        print(\"\\n🎉 Все тесты пройдены! Настройка корректна.\")\n",
    "        return True\n",
    "        \n",
    "    except Exception as e:\n",
    "        print(f\"❌ Критическая ошибка: {e}\")\n",
    "        return False"
   ]
  },
  {
   "cell_type": "code",
   "execution_count": 54,
   "id": "fb152b3d",
   "metadata": {},
   "outputs": [
    {
     "name": "stdout",
     "output_type": "stream",
     "text": [
      "✅ Файл credentials.json найден\n",
      "📧 Email сервисного аккаунта: table-bot@table-pars.iam.gserviceaccount.com\n",
      "✅ Аутентификация успешна\n",
      "\n",
      "🧪 Тест 1: Открытие существующей таблицы...\n",
      "✅ Таблица открыта: test\n",
      "✅ Размер данных: 192 строк, 13 столбцов\n",
      "\n",
      "🧪 Тест 3: Операция записи...\n",
      "✅ Запись данных: УСПЕХ\n",
      "✅ Проверка данных: [['Data2'], ['Лушникова Елизавета']]\n",
      "\n",
      "🎉 Все тесты пройдены! Настройка корректна.\n"
     ]
    },
    {
     "data": {
      "text/plain": [
       "True"
      ]
     },
     "execution_count": 54,
     "metadata": {},
     "output_type": "execute_result"
    }
   ],
   "source": [
    "test_google_sheets_connection_fixed(\"https://docs.google.com/spreadsheets/d/1qVdDsfiTCZKMDyQsFrWhE4tmJVCuIoZ0CIWw05UCaRw/edit?gid=0#gid=0\", \"private/credentials.json\")"
   ]
  }
 ],
 "metadata": {
  "kernelspec": {
   "display_name": "cascade",
   "language": "python",
   "name": "python3"
  },
  "language_info": {
   "codemirror_mode": {
    "name": "ipython",
    "version": 3
   },
   "file_extension": ".py",
   "mimetype": "text/x-python",
   "name": "python",
   "nbconvert_exporter": "python",
   "pygments_lexer": "ipython3",
   "version": "3.12.3"
  }
 },
 "nbformat": 4,
 "nbformat_minor": 5
}
